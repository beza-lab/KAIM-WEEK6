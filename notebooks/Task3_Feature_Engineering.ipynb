{
 "cells": [
  {
   "cell_type": "code",
   "execution_count": 2,
   "metadata": {},
   "outputs": [
    {
     "name": "stdout",
     "output_type": "stream",
     "text": [
      "Aggregate Features:\n",
      "        CustomerId  total_transaction_amount  avg_transaction_amount  \\\n",
      "0     CustomerId_1                  -10000.0           -10000.000000   \n",
      "1    CustomerId_10                  -10000.0           -10000.000000   \n",
      "2  CustomerId_1001                   20000.0             4000.000000   \n",
      "3  CustomerId_1002                    4225.0              384.090909   \n",
      "4  CustomerId_1003                   20000.0             3333.333333   \n",
      "\n",
      "   transaction_count  std_transaction_amount  \n",
      "0                  1                     NaN  \n",
      "1                  1                     NaN  \n",
      "2                  5             6558.963333  \n",
      "3                 11              560.498966  \n",
      "4                  6             6030.478146  \n"
     ]
    }
   ],
   "source": [
    "import pandas as pd\n",
    "\n",
    "# Load dataset\n",
    "df = pd.read_csv('D:/week6 data/data.csv')\n",
    "\n",
    "# Aggregate features\n",
    "df_agg = df.groupby('CustomerId').agg(\n",
    "    total_transaction_amount=('Amount', 'sum'),\n",
    "    avg_transaction_amount=('Amount', 'mean'),\n",
    "    transaction_count=('Amount', 'count'),\n",
    "    std_transaction_amount=('Amount', 'std')\n",
    ").reset_index()\n",
    "\n",
    "print(f\"Aggregate Features:\\n{df_agg.head()}\")"
   ]
  },
  {
   "cell_type": "code",
   "execution_count": 3,
   "metadata": {},
   "outputs": [
    {
     "name": "stdout",
     "output_type": "stream",
     "text": [
      "Extracted Features:\n",
      "       TransactionStartTime  transaction_hour  transaction_day  \\\n",
      "0 2018-11-15 02:18:49+00:00                 2               15   \n",
      "1 2018-11-15 02:19:08+00:00                 2               15   \n",
      "2 2018-11-15 02:44:21+00:00                 2               15   \n",
      "3 2018-11-15 03:32:55+00:00                 3               15   \n",
      "4 2018-11-15 03:34:21+00:00                 3               15   \n",
      "\n",
      "   transaction_month  transaction_year  \n",
      "0                 11              2018  \n",
      "1                 11              2018  \n",
      "2                 11              2018  \n",
      "3                 11              2018  \n",
      "4                 11              2018  \n"
     ]
    }
   ],
   "source": [
    "# Convert TransactionStartTime to datetime\n",
    "df['TransactionStartTime'] = pd.to_datetime(df['TransactionStartTime'])\n",
    "\n",
    "# Extract features\n",
    "df['transaction_hour'] = df['TransactionStartTime'].dt.hour\n",
    "df['transaction_day'] = df['TransactionStartTime'].dt.day\n",
    "df['transaction_month'] = df['TransactionStartTime'].dt.month\n",
    "df['transaction_year'] = df['TransactionStartTime'].dt.year\n",
    "\n",
    "print(f\"Extracted Features:\\n{df[['TransactionStartTime', 'transaction_hour', 'transaction_day', 'transaction_month', 'transaction_year']].head()}\")\n"
   ]
  },
  {
   "cell_type": "code",
   "execution_count": 4,
   "metadata": {},
   "outputs": [
    {
     "name": "stdout",
     "output_type": "stream",
     "text": [
      "Encoded Features:\n",
      "   TransactionId  BatchId  AccountId  SubscriptionId  CustomerId CurrencyCode  \\\n",
      "0          78150    46980       2490            3535        2584          UGX   \n",
      "1          75821    31755       3219            2366        2584          UGX   \n",
      "2          39888    60272       2713             996        2806          UGX   \n",
      "3          48738     1797       3351             974        3733          UGX   \n",
      "4          41364    48941       3219            2366        3733          UGX   \n",
      "\n",
      "   CountryCode    ProviderId     ProductId     ProductCategory    ChannelId  \\\n",
      "0          256  ProviderId_6  ProductId_10             airtime  ChannelId_3   \n",
      "1          256  ProviderId_4   ProductId_6  financial_services  ChannelId_2   \n",
      "2          256  ProviderId_6   ProductId_1             airtime  ChannelId_3   \n",
      "3          256  ProviderId_1  ProductId_21        utility_bill  ChannelId_3   \n",
      "4          256  ProviderId_4   ProductId_6  financial_services  ChannelId_2   \n",
      "\n",
      "    Amount  Value      TransactionStartTime  PricingStrategy  FraudResult  \\\n",
      "0   1000.0   1000 2018-11-15 02:18:49+00:00                2            0   \n",
      "1    -20.0     20 2018-11-15 02:19:08+00:00                2            0   \n",
      "2    500.0    500 2018-11-15 02:44:21+00:00                2            0   \n",
      "3  20000.0  21800 2018-11-15 03:32:55+00:00                2            0   \n",
      "4   -644.0    644 2018-11-15 03:34:21+00:00                2            0   \n",
      "\n",
      "   transaction_hour  transaction_day  transaction_month  transaction_year  \n",
      "0                 2               15                 11              2018  \n",
      "1                 2               15                 11              2018  \n",
      "2                 2               15                 11              2018  \n",
      "3                 3               15                 11              2018  \n",
      "4                 3               15                 11              2018  \n"
     ]
    }
   ],
   "source": [
    "from sklearn.preprocessing import OneHotEncoder, LabelEncoder\n",
    "\n",
    "# One-Hot Encoding for Categorical Variables\n",
    "df_encoded = pd.get_dummies(df, columns=['CurrencyCode', 'ProviderId', 'ProductId', 'ProductCategory', 'ChannelId'])\n",
    "\n",
    "# Label Encoding for Categorical Variables\n",
    "le = LabelEncoder()\n",
    "df['TransactionId'] = le.fit_transform(df['TransactionId'])\n",
    "df['BatchId'] = le.fit_transform(df['BatchId'])\n",
    "df['AccountId'] = le.fit_transform(df['AccountId'])\n",
    "df['SubscriptionId'] = le.fit_transform(df['SubscriptionId'])\n",
    "df['CustomerId'] = le.fit_transform(df['CustomerId'])\n",
    "\n",
    "print(f\"Encoded Features:\\n{df.head()}\")\n"
   ]
  },
  {
   "cell_type": "code",
   "execution_count": 7,
   "metadata": {},
   "outputs": [
    {
     "name": "stdout",
     "output_type": "stream",
     "text": [
      "Missing Values:\n",
      "TransactionId           0\n",
      "BatchId                 0\n",
      "AccountId               0\n",
      "SubscriptionId          0\n",
      "CustomerId              0\n",
      "CurrencyCode            0\n",
      "CountryCode             0\n",
      "ProviderId              0\n",
      "ProductId               0\n",
      "ProductCategory         0\n",
      "ChannelId               0\n",
      "Amount                  0\n",
      "Value                   0\n",
      "TransactionStartTime    0\n",
      "PricingStrategy         0\n",
      "FraudResult             0\n",
      "dtype: int64\n",
      "Missing Values After Imputation:\n",
      "TransactionId           0\n",
      "BatchId                 0\n",
      "AccountId               0\n",
      "SubscriptionId          0\n",
      "CustomerId              0\n",
      "CurrencyCode            0\n",
      "CountryCode             0\n",
      "ProviderId              0\n",
      "ProductId               0\n",
      "ProductCategory         0\n",
      "ChannelId               0\n",
      "Amount                  0\n",
      "Value                   0\n",
      "TransactionStartTime    0\n",
      "PricingStrategy         0\n",
      "FraudResult             0\n",
      "dtype: int64\n"
     ]
    }
   ],
   "source": [
    "import pandas as pd\n",
    "\n",
    "# Load dataset\n",
    "df = pd.read_csv('D:/week6 data/data.csv')\n",
    "\n",
    "# Check for missing values\n",
    "missing_values = df.isnull().sum()\n",
    "print(f\"Missing Values:\\n{missing_values}\")\n",
    "\n",
    "# Imputation example using the recommended method\n",
    "df.fillna({'Amount': df['Amount'].mean()}, inplace=True)\n",
    "\n",
    "# Alternatively, assign the result back to the DataFrame\n",
    "# df['Amount'] = df['Amount'].fillna(df['Amount'].mean())\n",
    "\n",
    "# Check again for missing values to ensure they are filled\n",
    "missing_values_after = df.isnull().sum()\n",
    "print(f\"Missing Values After Imputation:\\n{missing_values_after}\")"
   ]
  },
  {
   "cell_type": "code",
   "execution_count": 6,
   "metadata": {},
   "outputs": [
    {
     "name": "stdout",
     "output_type": "stream",
     "text": [
      "Scaled Features:\n",
      "     Amount     Value\n",
      "0 -0.046371 -0.072291\n",
      "1 -0.054643 -0.080251\n",
      "2 -0.050426 -0.076352\n",
      "3  0.107717  0.096648\n",
      "4 -0.059704 -0.075183\n"
     ]
    }
   ],
   "source": [
    "from sklearn.preprocessing import MinMaxScaler, StandardScaler\n",
    "\n",
    "# Normalization\n",
    "scaler = MinMaxScaler()\n",
    "df[['Amount', 'Value']] = scaler.fit_transform(df[['Amount', 'Value']])\n",
    "\n",
    "# Standardization\n",
    "scaler = StandardScaler()\n",
    "df[['Amount', 'Value']] = scaler.fit_transform(df[['Amount', 'Value']])\n",
    "\n",
    "print(f\"Scaled Features:\\n{df[['Amount', 'Value']].head()}\")\n"
   ]
  }
 ],
 "metadata": {
  "kernelspec": {
   "display_name": ".ebcli-virtual-env",
   "language": "python",
   "name": "python3"
  },
  "language_info": {
   "codemirror_mode": {
    "name": "ipython",
    "version": 3
   },
   "file_extension": ".py",
   "mimetype": "text/x-python",
   "name": "python",
   "nbconvert_exporter": "python",
   "pygments_lexer": "ipython3",
   "version": "3.11.9"
  }
 },
 "nbformat": 4,
 "nbformat_minor": 2
}
